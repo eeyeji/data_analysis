{
 "cells": [
  {
   "cell_type": "code",
   "execution_count": 16,
   "metadata": {},
   "outputs": [],
   "source": [
    "from wordcloud import WordCloud\n",
    "import matplotlib.pyplot as plt\n",
    "from collections import Counter\n",
    "from konlpy.tag import Okt\n",
    "from PIL import Image\n",
    "import pandas as pd\n",
    "import numpy as np\n",
    "\n",
    "from tqdm import tqdm\n",
    "tqdm.pandas()"
   ]
  },
  {
   "cell_type": "code",
   "execution_count": 17,
   "metadata": {},
   "outputs": [],
   "source": [
    "from nltk.corpus import stopwords\n",
    "import nltk\n",
    "from nltk.stem import WordNetLemmatizer, SnowballStemmer\n",
    "from nltk.stem.porter import *\n",
    "from nltk import word_tokenize"
   ]
  },
  {
   "cell_type": "code",
   "execution_count": 18,
   "metadata": {},
   "outputs": [],
   "source": [
    "from konlpy.tag import Okt"
   ]
  },
  {
   "cell_type": "code",
   "execution_count": 19,
   "metadata": {},
   "outputs": [
    {
     "data": {
      "text/html": [
       "<div>\n",
       "<style scoped>\n",
       "    .dataframe tbody tr th:only-of-type {\n",
       "        vertical-align: middle;\n",
       "    }\n",
       "\n",
       "    .dataframe tbody tr th {\n",
       "        vertical-align: top;\n",
       "    }\n",
       "\n",
       "    .dataframe thead th {\n",
       "        text-align: right;\n",
       "    }\n",
       "</style>\n",
       "<table border=\"1\" class=\"dataframe\">\n",
       "  <thead>\n",
       "    <tr style=\"text-align: right;\">\n",
       "      <th></th>\n",
       "      <th>아이디</th>\n",
       "      <th>댓글 내용</th>\n",
       "    </tr>\n",
       "  </thead>\n",
       "  <tbody>\n",
       "    <tr>\n",
       "      <th>0</th>\n",
       "      <td>밉바부</td>\n",
       "      <td>요즘 넥슨은 다양한 시도를 하는거같아서 긍정적으로 보게됩니다. 제발 이대로 좋은 성...</td>\n",
       "    </tr>\n",
       "    <tr>\n",
       "      <th>1</th>\n",
       "      <td>그러쿤</td>\n",
       "      <td>베일드 친구들과 너무 즐겁게 플레이했던 게임이었어요. 총 쏘는 맛도 좋고 딱 머리 ...</td>\n",
       "    </tr>\n",
       "    <tr>\n",
       "      <th>2</th>\n",
       "      <td>GunHyo Lee</td>\n",
       "      <td>퍼스트 디센던트는 미완성 게임으로 테스트를 지원한거라 생각해서 모션의 어색함이나 박...</td>\n",
       "    </tr>\n",
       "    <tr>\n",
       "      <th>3</th>\n",
       "      <td>여심용광로</td>\n",
       "      <td>베엑은 테스트때 참여했던 유저로 게임 정말 잘만들었습니다. 다만 컨텐츠 부족 맵의 ...</td>\n",
       "    </tr>\n",
       "    <tr>\n",
       "      <th>4</th>\n",
       "      <td>민트허브</td>\n",
       "      <td>가챠 확률이 영업비밀이 아니라 성공한 신작게임들의 개발 노하우들이 영업비밀이었으면 ...</td>\n",
       "    </tr>\n",
       "    <tr>\n",
       "      <th>...</th>\n",
       "      <td>...</td>\n",
       "      <td>...</td>\n",
       "    </tr>\n",
       "    <tr>\n",
       "      <th>535</th>\n",
       "      <td>zip</td>\n",
       "      <td>응 피파 미만잡</td>\n",
       "    </tr>\n",
       "    <tr>\n",
       "      <th>536</th>\n",
       "      <td>하루</td>\n",
       "      <td>음</td>\n",
       "    </tr>\n",
       "    <tr>\n",
       "      <th>537</th>\n",
       "      <td>사과양갤럭씨</td>\n",
       "      <td>노잼처럼 생겼네</td>\n",
       "    </tr>\n",
       "    <tr>\n",
       "      <th>538</th>\n",
       "      <td>개발왕</td>\n",
       "      <td>별론데</td>\n",
       "    </tr>\n",
       "    <tr>\n",
       "      <th>539</th>\n",
       "      <td>VIPER</td>\n",
       "      <td>Failed Experts</td>\n",
       "    </tr>\n",
       "  </tbody>\n",
       "</table>\n",
       "<p>540 rows × 2 columns</p>\n",
       "</div>"
      ],
      "text/plain": [
       "              아이디                                              댓글 내용\n",
       "0             밉바부  요즘 넥슨은 다양한 시도를 하는거같아서 긍정적으로 보게됩니다. 제발 이대로 좋은 성...\n",
       "1             그러쿤  베일드 친구들과 너무 즐겁게 플레이했던 게임이었어요. 총 쏘는 맛도 좋고 딱 머리 ...\n",
       "2      GunHyo Lee  퍼스트 디센던트는 미완성 게임으로 테스트를 지원한거라 생각해서 모션의 어색함이나 박...\n",
       "3           여심용광로  베엑은 테스트때 참여했던 유저로 게임 정말 잘만들었습니다. 다만 컨텐츠 부족 맵의 ...\n",
       "4            민트허브  가챠 확률이 영업비밀이 아니라 성공한 신작게임들의 개발 노하우들이 영업비밀이었으면 ...\n",
       "..            ...                                                ...\n",
       "535           zip                                           응 피파 미만잡\n",
       "536            하루                                                  음\n",
       "537        사과양갤럭씨                                           노잼처럼 생겼네\n",
       "538           개발왕                                                별론데\n",
       "539         VIPER                                     Failed Experts\n",
       "\n",
       "[540 rows x 2 columns]"
      ]
     },
     "execution_count": 19,
     "metadata": {},
     "output_type": "execute_result"
    }
   ],
   "source": [
    "#크롤링 데이터 불러오기\n",
    "#본인이 크롤링한 파일 업로드\n",
    "data=pd.read_excel('신트리_fps신작리뷰_댓글.xlsx')\n",
    "\n",
    "#필요없는 컬럼 삭제\n",
    "del data['Unnamed: 0']\n",
    "# data.info()\n",
    "data"
   ]
  },
  {
   "cell_type": "code",
   "execution_count": 20,
   "metadata": {},
   "outputs": [
    {
     "data": {
      "text/html": [
       "<div>\n",
       "<style scoped>\n",
       "    .dataframe tbody tr th:only-of-type {\n",
       "        vertical-align: middle;\n",
       "    }\n",
       "\n",
       "    .dataframe tbody tr th {\n",
       "        vertical-align: top;\n",
       "    }\n",
       "\n",
       "    .dataframe thead th {\n",
       "        text-align: right;\n",
       "    }\n",
       "</style>\n",
       "<table border=\"1\" class=\"dataframe\">\n",
       "  <thead>\n",
       "    <tr style=\"text-align: right;\">\n",
       "      <th></th>\n",
       "      <th>id</th>\n",
       "      <th>comment</th>\n",
       "    </tr>\n",
       "  </thead>\n",
       "  <tbody>\n",
       "    <tr>\n",
       "      <th>0</th>\n",
       "      <td>밉바부</td>\n",
       "      <td>요즘 넥슨은 다양한 시도를 하는거같아서 긍정적으로 보게됩니다. 제발 이대로 좋은 성...</td>\n",
       "    </tr>\n",
       "    <tr>\n",
       "      <th>1</th>\n",
       "      <td>그러쿤</td>\n",
       "      <td>베일드 친구들과 너무 즐겁게 플레이했던 게임이었어요. 총 쏘는 맛도 좋고 딱 머리 ...</td>\n",
       "    </tr>\n",
       "    <tr>\n",
       "      <th>2</th>\n",
       "      <td>GunHyo Lee</td>\n",
       "      <td>퍼스트 디센던트는 미완성 게임으로 테스트를 지원한거라 생각해서 모션의 어색함이나 박...</td>\n",
       "    </tr>\n",
       "    <tr>\n",
       "      <th>3</th>\n",
       "      <td>여심용광로</td>\n",
       "      <td>베엑은 테스트때 참여했던 유저로 게임 정말 잘만들었습니다. 다만 컨텐츠 부족 맵의 ...</td>\n",
       "    </tr>\n",
       "    <tr>\n",
       "      <th>4</th>\n",
       "      <td>민트허브</td>\n",
       "      <td>가챠 확률이 영업비밀이 아니라 성공한 신작게임들의 개발 노하우들이 영업비밀이었으면 ...</td>\n",
       "    </tr>\n",
       "    <tr>\n",
       "      <th>...</th>\n",
       "      <td>...</td>\n",
       "      <td>...</td>\n",
       "    </tr>\n",
       "    <tr>\n",
       "      <th>535</th>\n",
       "      <td>zip</td>\n",
       "      <td>응 피파 미만잡</td>\n",
       "    </tr>\n",
       "    <tr>\n",
       "      <th>536</th>\n",
       "      <td>하루</td>\n",
       "      <td>음</td>\n",
       "    </tr>\n",
       "    <tr>\n",
       "      <th>537</th>\n",
       "      <td>사과양갤럭씨</td>\n",
       "      <td>노잼처럼 생겼네</td>\n",
       "    </tr>\n",
       "    <tr>\n",
       "      <th>538</th>\n",
       "      <td>개발왕</td>\n",
       "      <td>별론데</td>\n",
       "    </tr>\n",
       "    <tr>\n",
       "      <th>539</th>\n",
       "      <td>VIPER</td>\n",
       "      <td>Failed Experts</td>\n",
       "    </tr>\n",
       "  </tbody>\n",
       "</table>\n",
       "<p>540 rows × 2 columns</p>\n",
       "</div>"
      ],
      "text/plain": [
       "               id                                            comment\n",
       "0             밉바부  요즘 넥슨은 다양한 시도를 하는거같아서 긍정적으로 보게됩니다. 제발 이대로 좋은 성...\n",
       "1             그러쿤  베일드 친구들과 너무 즐겁게 플레이했던 게임이었어요. 총 쏘는 맛도 좋고 딱 머리 ...\n",
       "2      GunHyo Lee  퍼스트 디센던트는 미완성 게임으로 테스트를 지원한거라 생각해서 모션의 어색함이나 박...\n",
       "3           여심용광로  베엑은 테스트때 참여했던 유저로 게임 정말 잘만들었습니다. 다만 컨텐츠 부족 맵의 ...\n",
       "4            민트허브  가챠 확률이 영업비밀이 아니라 성공한 신작게임들의 개발 노하우들이 영업비밀이었으면 ...\n",
       "..            ...                                                ...\n",
       "535           zip                                           응 피파 미만잡\n",
       "536            하루                                                  음\n",
       "537        사과양갤럭씨                                           노잼처럼 생겼네\n",
       "538           개발왕                                                별론데\n",
       "539         VIPER                                     Failed Experts\n",
       "\n",
       "[540 rows x 2 columns]"
      ]
     },
     "execution_count": 20,
     "metadata": {},
     "output_type": "execute_result"
    }
   ],
   "source": [
    "data.columns=['id', 'comment']\n",
    "data"
   ]
  },
  {
   "cell_type": "code",
   "execution_count": 21,
   "metadata": {},
   "outputs": [
    {
     "name": "stderr",
     "output_type": "stream",
     "text": [
      "C:\\Users\\user\\AppData\\Local\\Temp\\ipykernel_11324\\2397918913.py:1: FutureWarning: The default value of regex will change from True to False in a future version.\n",
      "  data.comment = data.comment.str.replace(\"[^가-힣]\",\" \") # 한글만 남기고 특수문자, 숫자, 영어 삭제\n",
      "C:\\Users\\user\\AppData\\Local\\Temp\\ipykernel_11324\\2397918913.py:2: FutureWarning: The default value of regex will change from True to False in a future version.\n",
      "  data.comment = data.comment.str.replace(\"\\s+\", \" \") # white space 삭제\n"
     ]
    }
   ],
   "source": [
    "data.comment = data.comment.str.replace(\"[^가-힣]\",\" \") # 한글만 남기고 특수문자, 숫자, 영어 삭제\n",
    "data.comment = data.comment.str.replace(\"\\s+\", \" \") # white space 삭제"
   ]
  },
  {
   "cell_type": "code",
   "execution_count": 22,
   "metadata": {},
   "outputs": [
    {
     "data": {
      "text/html": [
       "<div>\n",
       "<style scoped>\n",
       "    .dataframe tbody tr th:only-of-type {\n",
       "        vertical-align: middle;\n",
       "    }\n",
       "\n",
       "    .dataframe tbody tr th {\n",
       "        vertical-align: top;\n",
       "    }\n",
       "\n",
       "    .dataframe thead th {\n",
       "        text-align: right;\n",
       "    }\n",
       "</style>\n",
       "<table border=\"1\" class=\"dataframe\">\n",
       "  <thead>\n",
       "    <tr style=\"text-align: right;\">\n",
       "      <th></th>\n",
       "      <th>id</th>\n",
       "      <th>comment</th>\n",
       "    </tr>\n",
       "  </thead>\n",
       "  <tbody>\n",
       "    <tr>\n",
       "      <th>0</th>\n",
       "      <td>밉바부</td>\n",
       "      <td>요즘 넥슨은 다양한 시도를 하는거같아서 긍정적으로 보게됩니다 제발 이대로 좋은 성적...</td>\n",
       "    </tr>\n",
       "    <tr>\n",
       "      <th>1</th>\n",
       "      <td>그러쿤</td>\n",
       "      <td>베일드 친구들과 너무 즐겁게 플레이했던 게임이었어요 총 쏘는 맛도 좋고 딱 머리 아...</td>\n",
       "    </tr>\n",
       "    <tr>\n",
       "      <th>2</th>\n",
       "      <td>GunHyo Lee</td>\n",
       "      <td>퍼스트 디센던트는 미완성 게임으로 테스트를 지원한거라 생각해서 모션의 어색함이나 박...</td>\n",
       "    </tr>\n",
       "    <tr>\n",
       "      <th>3</th>\n",
       "      <td>여심용광로</td>\n",
       "      <td>베엑은 테스트때 참여했던 유저로 게임 정말 잘만들었습니다 다만 컨텐츠 부족 맵의 종...</td>\n",
       "    </tr>\n",
       "    <tr>\n",
       "      <th>4</th>\n",
       "      <td>민트허브</td>\n",
       "      <td>가챠 확률이 영업비밀이 아니라 성공한 신작게임들의 개발 노하우들이 영업비밀이었으면 ...</td>\n",
       "    </tr>\n",
       "    <tr>\n",
       "      <th>...</th>\n",
       "      <td>...</td>\n",
       "      <td>...</td>\n",
       "    </tr>\n",
       "    <tr>\n",
       "      <th>535</th>\n",
       "      <td>zip</td>\n",
       "      <td>응 피파 미만잡</td>\n",
       "    </tr>\n",
       "    <tr>\n",
       "      <th>536</th>\n",
       "      <td>하루</td>\n",
       "      <td>음</td>\n",
       "    </tr>\n",
       "    <tr>\n",
       "      <th>537</th>\n",
       "      <td>사과양갤럭씨</td>\n",
       "      <td>노잼처럼 생겼네</td>\n",
       "    </tr>\n",
       "    <tr>\n",
       "      <th>538</th>\n",
       "      <td>개발왕</td>\n",
       "      <td>별론데</td>\n",
       "    </tr>\n",
       "    <tr>\n",
       "      <th>539</th>\n",
       "      <td>VIPER</td>\n",
       "      <td></td>\n",
       "    </tr>\n",
       "  </tbody>\n",
       "</table>\n",
       "<p>540 rows × 2 columns</p>\n",
       "</div>"
      ],
      "text/plain": [
       "               id                                            comment\n",
       "0             밉바부  요즘 넥슨은 다양한 시도를 하는거같아서 긍정적으로 보게됩니다 제발 이대로 좋은 성적...\n",
       "1             그러쿤  베일드 친구들과 너무 즐겁게 플레이했던 게임이었어요 총 쏘는 맛도 좋고 딱 머리 아...\n",
       "2      GunHyo Lee  퍼스트 디센던트는 미완성 게임으로 테스트를 지원한거라 생각해서 모션의 어색함이나 박...\n",
       "3           여심용광로  베엑은 테스트때 참여했던 유저로 게임 정말 잘만들었습니다 다만 컨텐츠 부족 맵의 종...\n",
       "4            민트허브  가챠 확률이 영업비밀이 아니라 성공한 신작게임들의 개발 노하우들이 영업비밀이었으면 ...\n",
       "..            ...                                                ...\n",
       "535           zip                                           응 피파 미만잡\n",
       "536            하루                                                  음\n",
       "537        사과양갤럭씨                                           노잼처럼 생겼네\n",
       "538           개발왕                                                별론데\n",
       "539         VIPER                                                   \n",
       "\n",
       "[540 rows x 2 columns]"
      ]
     },
     "execution_count": 22,
     "metadata": {},
     "output_type": "execute_result"
    }
   ],
   "source": [
    "data"
   ]
  },
  {
   "cell_type": "code",
   "execution_count": 23,
   "metadata": {},
   "outputs": [
    {
     "data": {
      "text/plain": [
       "id         0\n",
       "comment    1\n",
       "dtype: int64"
      ]
     },
     "execution_count": 23,
     "metadata": {},
     "output_type": "execute_result"
    }
   ],
   "source": [
    "#결측치 개수 확인\n",
    "data.isnull().sum()"
   ]
  },
  {
   "cell_type": "code",
   "execution_count": null,
   "metadata": {},
   "outputs": [],
   "source": []
  },
  {
   "cell_type": "code",
   "execution_count": null,
   "metadata": {},
   "outputs": [],
   "source": []
  },
  {
   "cell_type": "code",
   "execution_count": null,
   "metadata": {},
   "outputs": [],
   "source": []
  },
  {
   "cell_type": "code",
   "execution_count": 10,
   "metadata": {},
   "outputs": [
    {
     "data": {
      "text/plain": [
       "0      [요즘, 넥슨, 다양, 시도, 거, 긍정적, 성적, 내서, 한국, 한국게임, 게임,...\n",
       "1      [베, 베일드, 일드, 친구, 플레이, 게임, 총, 맛, 머리, 정도, 전략, 협동...\n",
       "2      [퍼스트, 디, 던, 미완성, 게임, 테스트, 지원, 거, 생각, 모션, 어색, 박...\n",
       "3      [베엑, 테스트, 테스트때, 때, 참여, 유저, 게임, 다, 컨텐츠, 부족, 맵의,...\n",
       "4       [챠, 확률, 영업, 영업비밀, 비밀, 성공, 신작, 신작게임, 게임, 개발, 노하우]\n",
       "                             ...                        \n",
       "533                    [넥, 거름, 돈, 인간, 술, 도박, 경마, 대마, 넥슨]\n",
       "534                                    [응, 피, 피파, 파, 미만]\n",
       "535                                                  [음]\n",
       "536                                           [노, 노잼, 잼]\n",
       "537                                                  [별]\n",
       "Name: doc, Length: 538, dtype: object"
      ]
     },
     "execution_count": 10,
     "metadata": {},
     "output_type": "execute_result"
    }
   ],
   "source": [
    "import konlpy\n",
    "kkma = konlpy.tag.Kkma() #형태소 분석기 꼬꼬마(Kkma)\n",
    "\n",
    "nouns = data['doc'].apply(kkma.nouns)\n",
    "nouns"
   ]
  },
  {
   "cell_type": "code",
   "execution_count": null,
   "metadata": {},
   "outputs": [],
   "source": []
  },
  {
   "cell_type": "code",
   "execution_count": null,
   "metadata": {},
   "outputs": [],
   "source": []
  },
  {
   "cell_type": "code",
   "execution_count": null,
   "metadata": {},
   "outputs": [],
   "source": []
  },
  {
   "cell_type": "code",
   "execution_count": null,
   "metadata": {},
   "outputs": [],
   "source": []
  },
  {
   "cell_type": "code",
   "execution_count": null,
   "metadata": {},
   "outputs": [],
   "source": []
  },
  {
   "cell_type": "code",
   "execution_count": null,
   "metadata": {},
   "outputs": [],
   "source": []
  },
  {
   "cell_type": "code",
   "execution_count": null,
   "metadata": {},
   "outputs": [],
   "source": []
  },
  {
   "cell_type": "code",
   "execution_count": null,
   "metadata": {},
   "outputs": [],
   "source": []
  }
 ],
 "metadata": {
  "kernelspec": {
   "display_name": "base",
   "language": "python",
   "name": "python3"
  },
  "language_info": {
   "codemirror_mode": {
    "name": "ipython",
    "version": 3
   },
   "file_extension": ".py",
   "mimetype": "text/x-python",
   "name": "python",
   "nbconvert_exporter": "python",
   "pygments_lexer": "ipython3",
   "version": "3.9.12"
  },
  "orig_nbformat": 4
 },
 "nbformat": 4,
 "nbformat_minor": 2
}

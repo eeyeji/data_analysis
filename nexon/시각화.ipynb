{
 "cells": [
  {
   "cell_type": "code",
   "execution_count": 37,
   "metadata": {},
   "outputs": [],
   "source": [
    "%matplotlib inline\n",
    "\n",
    "import pandas as pd\n",
    "import numpy as np\n",
    "import matplotlib.pyplot as plt\n",
    "import seaborn as sns\n",
    "\n",
    "import warnings\n",
    "warnings.filterwarnings('ignore')"
   ]
  },
  {
   "cell_type": "code",
   "execution_count": 38,
   "metadata": {},
   "outputs": [
    {
     "data": {
      "text/html": [
       "<div>\n",
       "<style scoped>\n",
       "    .dataframe tbody tr th:only-of-type {\n",
       "        vertical-align: middle;\n",
       "    }\n",
       "\n",
       "    .dataframe tbody tr th {\n",
       "        vertical-align: top;\n",
       "    }\n",
       "\n",
       "    .dataframe thead th {\n",
       "        text-align: right;\n",
       "    }\n",
       "</style>\n",
       "<table border=\"1\" class=\"dataframe\">\n",
       "  <thead>\n",
       "    <tr style=\"text-align: right;\">\n",
       "      <th></th>\n",
       "      <th>아이디</th>\n",
       "      <th>댓글 내용</th>\n",
       "    </tr>\n",
       "  </thead>\n",
       "  <tbody>\n",
       "    <tr>\n",
       "      <th>0</th>\n",
       "      <td>밉바부</td>\n",
       "      <td>요즘 넥슨은 다양한 시도를 하는거같아서 긍정적으로 보게됩니다. 제발 이대로 좋은 성...</td>\n",
       "    </tr>\n",
       "    <tr>\n",
       "      <th>1</th>\n",
       "      <td>그러쿤</td>\n",
       "      <td>베일드 친구들과 너무 즐겁게 플레이했던 게임이었어요. 총 쏘는 맛도 좋고 딱 머리 ...</td>\n",
       "    </tr>\n",
       "    <tr>\n",
       "      <th>2</th>\n",
       "      <td>GunHyo Lee</td>\n",
       "      <td>퍼스트 디센던트는 미완성 게임으로 테스트를 지원한거라 생각해서 모션의 어색함이나 박...</td>\n",
       "    </tr>\n",
       "    <tr>\n",
       "      <th>3</th>\n",
       "      <td>여심용광로</td>\n",
       "      <td>베엑은 테스트때 참여했던 유저로 게임 정말 잘만들었습니다. 다만 컨텐츠 부족 맵의 ...</td>\n",
       "    </tr>\n",
       "    <tr>\n",
       "      <th>4</th>\n",
       "      <td>민트허브</td>\n",
       "      <td>가챠 확률이 영업비밀이 아니라 성공한 신작게임들의 개발 노하우들이 영업비밀이었으면 ...</td>\n",
       "    </tr>\n",
       "  </tbody>\n",
       "</table>\n",
       "</div>"
      ],
      "text/plain": [
       "            아이디                                              댓글 내용\n",
       "0           밉바부  요즘 넥슨은 다양한 시도를 하는거같아서 긍정적으로 보게됩니다. 제발 이대로 좋은 성...\n",
       "1           그러쿤  베일드 친구들과 너무 즐겁게 플레이했던 게임이었어요. 총 쏘는 맛도 좋고 딱 머리 ...\n",
       "2    GunHyo Lee  퍼스트 디센던트는 미완성 게임으로 테스트를 지원한거라 생각해서 모션의 어색함이나 박...\n",
       "3         여심용광로  베엑은 테스트때 참여했던 유저로 게임 정말 잘만들었습니다. 다만 컨텐츠 부족 맵의 ...\n",
       "4          민트허브  가챠 확률이 영업비밀이 아니라 성공한 신작게임들의 개발 노하우들이 영업비밀이었으면 ..."
      ]
     },
     "execution_count": 38,
     "metadata": {},
     "output_type": "execute_result"
    }
   ],
   "source": [
    "df = pd.read_excel('신트리_fps신작리뷰_댓글.xlsx')\n",
    "#필요없는 컬럼 삭제\n",
    "del df['Unnamed: 0']\n",
    "df.head()"
   ]
  },
  {
   "cell_type": "code",
   "execution_count": 39,
   "metadata": {},
   "outputs": [
    {
     "data": {
      "text/html": [
       "<div>\n",
       "<style scoped>\n",
       "    .dataframe tbody tr th:only-of-type {\n",
       "        vertical-align: middle;\n",
       "    }\n",
       "\n",
       "    .dataframe tbody tr th {\n",
       "        vertical-align: top;\n",
       "    }\n",
       "\n",
       "    .dataframe thead th {\n",
       "        text-align: right;\n",
       "    }\n",
       "</style>\n",
       "<table border=\"1\" class=\"dataframe\">\n",
       "  <thead>\n",
       "    <tr style=\"text-align: right;\">\n",
       "      <th></th>\n",
       "      <th>id</th>\n",
       "      <th>comment</th>\n",
       "    </tr>\n",
       "  </thead>\n",
       "  <tbody>\n",
       "    <tr>\n",
       "      <th>0</th>\n",
       "      <td>밉바부</td>\n",
       "      <td>요즘 넥슨은 다양한 시도를 하는거같아서 긍정적으로 보게됩니다. 제발 이대로 좋은 성...</td>\n",
       "    </tr>\n",
       "    <tr>\n",
       "      <th>1</th>\n",
       "      <td>그러쿤</td>\n",
       "      <td>베일드 친구들과 너무 즐겁게 플레이했던 게임이었어요. 총 쏘는 맛도 좋고 딱 머리 ...</td>\n",
       "    </tr>\n",
       "    <tr>\n",
       "      <th>2</th>\n",
       "      <td>GunHyo Lee</td>\n",
       "      <td>퍼스트 디센던트는 미완성 게임으로 테스트를 지원한거라 생각해서 모션의 어색함이나 박...</td>\n",
       "    </tr>\n",
       "    <tr>\n",
       "      <th>3</th>\n",
       "      <td>여심용광로</td>\n",
       "      <td>베엑은 테스트때 참여했던 유저로 게임 정말 잘만들었습니다. 다만 컨텐츠 부족 맵의 ...</td>\n",
       "    </tr>\n",
       "    <tr>\n",
       "      <th>4</th>\n",
       "      <td>민트허브</td>\n",
       "      <td>가챠 확률이 영업비밀이 아니라 성공한 신작게임들의 개발 노하우들이 영업비밀이었으면 ...</td>\n",
       "    </tr>\n",
       "  </tbody>\n",
       "</table>\n",
       "</div>"
      ],
      "text/plain": [
       "             id                                            comment\n",
       "0           밉바부  요즘 넥슨은 다양한 시도를 하는거같아서 긍정적으로 보게됩니다. 제발 이대로 좋은 성...\n",
       "1           그러쿤  베일드 친구들과 너무 즐겁게 플레이했던 게임이었어요. 총 쏘는 맛도 좋고 딱 머리 ...\n",
       "2    GunHyo Lee  퍼스트 디센던트는 미완성 게임으로 테스트를 지원한거라 생각해서 모션의 어색함이나 박...\n",
       "3         여심용광로  베엑은 테스트때 참여했던 유저로 게임 정말 잘만들었습니다. 다만 컨텐츠 부족 맵의 ...\n",
       "4          민트허브  가챠 확률이 영업비밀이 아니라 성공한 신작게임들의 개발 노하우들이 영업비밀이었으면 ..."
      ]
     },
     "execution_count": 39,
     "metadata": {},
     "output_type": "execute_result"
    }
   ],
   "source": [
    "df.columns=['id', 'comment']\n",
    "df.head()"
   ]
  },
  {
   "cell_type": "code",
   "execution_count": 40,
   "metadata": {},
   "outputs": [
    {
     "data": {
      "text/plain": [
       "id         0\n",
       "comment    1\n",
       "dtype: int64"
      ]
     },
     "execution_count": 40,
     "metadata": {},
     "output_type": "execute_result"
    }
   ],
   "source": [
    "df.isnull().sum()"
   ]
  },
  {
   "cell_type": "code",
   "execution_count": 41,
   "metadata": {},
   "outputs": [
    {
     "data": {
      "text/plain": [
       "539"
      ]
     },
     "execution_count": 41,
     "metadata": {},
     "output_type": "execute_result"
    }
   ],
   "source": [
    "#결측치 삭제 후 적용(저장)\n",
    "df.dropna(inplace=True)\n",
    "#결측치 제거 후 데이터 수 확인\n",
    "len(df)"
   ]
  },
  {
   "cell_type": "code",
   "execution_count": 42,
   "metadata": {},
   "outputs": [],
   "source": [
    "df.comment = df.comment.str.replace(\"[^가-힣]\",\" \") # 한글만 남기고 특수문자, 숫자, 영어 삭제\n",
    "df.comment = df.comment.str.replace(\"\\s+\", \" \") # white space 삭제"
   ]
  },
  {
   "cell_type": "code",
   "execution_count": 43,
   "metadata": {},
   "outputs": [
    {
     "data": {
      "text/plain": [
       "539"
      ]
     },
     "execution_count": 43,
     "metadata": {},
     "output_type": "execute_result"
    }
   ],
   "source": [
    "len(df)"
   ]
  },
  {
   "cell_type": "code",
   "execution_count": 44,
   "metadata": {},
   "outputs": [
    {
     "data": {
      "text/plain": [
       "538"
      ]
     },
     "execution_count": 44,
     "metadata": {},
     "output_type": "execute_result"
    }
   ],
   "source": [
    "#중복행 제거\n",
    "df.drop_duplicates(['comment'], inplace=True)\n",
    "\n",
    "#새롭게 인덱스부여\n",
    "df.reset_index(inplace=True)\n",
    "\n",
    "len(df)"
   ]
  },
  {
   "cell_type": "code",
   "execution_count": 45,
   "metadata": {},
   "outputs": [
    {
     "data": {
      "text/html": [
       "<div>\n",
       "<style scoped>\n",
       "    .dataframe tbody tr th:only-of-type {\n",
       "        vertical-align: middle;\n",
       "    }\n",
       "\n",
       "    .dataframe tbody tr th {\n",
       "        vertical-align: top;\n",
       "    }\n",
       "\n",
       "    .dataframe thead th {\n",
       "        text-align: right;\n",
       "    }\n",
       "</style>\n",
       "<table border=\"1\" class=\"dataframe\">\n",
       "  <thead>\n",
       "    <tr style=\"text-align: right;\">\n",
       "      <th></th>\n",
       "      <th>id</th>\n",
       "      <th>comment</th>\n",
       "    </tr>\n",
       "  </thead>\n",
       "  <tbody>\n",
       "    <tr>\n",
       "      <th>0</th>\n",
       "      <td>밉바부</td>\n",
       "      <td>요즘 넥슨은 다양한 시도를 하는거같아서 긍정적으로 보게됩니다 제발 이대로 좋은 성적...</td>\n",
       "    </tr>\n",
       "    <tr>\n",
       "      <th>1</th>\n",
       "      <td>그러쿤</td>\n",
       "      <td>베일드 친구들과 너무 즐겁게 플레이했던 게임이었어요 총 쏘는 맛도 좋고 딱 머리 아...</td>\n",
       "    </tr>\n",
       "    <tr>\n",
       "      <th>2</th>\n",
       "      <td>GunHyo Lee</td>\n",
       "      <td>퍼스트 디센던트는 미완성 게임으로 테스트를 지원한거라 생각해서 모션의 어색함이나 박...</td>\n",
       "    </tr>\n",
       "    <tr>\n",
       "      <th>3</th>\n",
       "      <td>여심용광로</td>\n",
       "      <td>베엑은 테스트때 참여했던 유저로 게임 정말 잘만들었습니다 다만 컨텐츠 부족 맵의 종...</td>\n",
       "    </tr>\n",
       "    <tr>\n",
       "      <th>4</th>\n",
       "      <td>민트허브</td>\n",
       "      <td>가챠 확률이 영업비밀이 아니라 성공한 신작게임들의 개발 노하우들이 영업비밀이었으면 ...</td>\n",
       "    </tr>\n",
       "    <tr>\n",
       "      <th>...</th>\n",
       "      <td>...</td>\n",
       "      <td>...</td>\n",
       "    </tr>\n",
       "    <tr>\n",
       "      <th>533</th>\n",
       "      <td>진진</td>\n",
       "      <td>넥슨 믿고 거름 돈 존나 많이듬 인간은 살면서 술 도박 경마 대마 넥슨을 피해야함</td>\n",
       "    </tr>\n",
       "    <tr>\n",
       "      <th>534</th>\n",
       "      <td>zip</td>\n",
       "      <td>응 피파 미만잡</td>\n",
       "    </tr>\n",
       "    <tr>\n",
       "      <th>535</th>\n",
       "      <td>하루</td>\n",
       "      <td>음</td>\n",
       "    </tr>\n",
       "    <tr>\n",
       "      <th>536</th>\n",
       "      <td>사과양갤럭씨</td>\n",
       "      <td>노잼처럼 생겼네</td>\n",
       "    </tr>\n",
       "    <tr>\n",
       "      <th>537</th>\n",
       "      <td>개발왕</td>\n",
       "      <td>별론데</td>\n",
       "    </tr>\n",
       "  </tbody>\n",
       "</table>\n",
       "<p>538 rows × 2 columns</p>\n",
       "</div>"
      ],
      "text/plain": [
       "               id                                            comment\n",
       "0             밉바부  요즘 넥슨은 다양한 시도를 하는거같아서 긍정적으로 보게됩니다 제발 이대로 좋은 성적...\n",
       "1             그러쿤  베일드 친구들과 너무 즐겁게 플레이했던 게임이었어요 총 쏘는 맛도 좋고 딱 머리 아...\n",
       "2      GunHyo Lee  퍼스트 디센던트는 미완성 게임으로 테스트를 지원한거라 생각해서 모션의 어색함이나 박...\n",
       "3           여심용광로  베엑은 테스트때 참여했던 유저로 게임 정말 잘만들었습니다 다만 컨텐츠 부족 맵의 종...\n",
       "4            민트허브  가챠 확률이 영업비밀이 아니라 성공한 신작게임들의 개발 노하우들이 영업비밀이었으면 ...\n",
       "..            ...                                                ...\n",
       "533            진진     넥슨 믿고 거름 돈 존나 많이듬 인간은 살면서 술 도박 경마 대마 넥슨을 피해야함 \n",
       "534           zip                                           응 피파 미만잡\n",
       "535            하루                                                  음\n",
       "536        사과양갤럭씨                                           노잼처럼 생겼네\n",
       "537           개발왕                                                별론데\n",
       "\n",
       "[538 rows x 2 columns]"
      ]
     },
     "execution_count": 45,
     "metadata": {},
     "output_type": "execute_result"
    }
   ],
   "source": [
    "#필요없는 컬럼 삭제\n",
    "del df['index']\n",
    "df"
   ]
  },
  {
   "cell_type": "code",
   "execution_count": 46,
   "metadata": {},
   "outputs": [],
   "source": [
    "#csv로 저장\n",
    "df.to_csv(\"신트리_fps신작리뷰_댓글_전처리.csv\", encoding='utf-8-sig')"
   ]
  },
  {
   "attachments": {},
   "cell_type": "markdown",
   "metadata": {},
   "source": [
    "### 시각화"
   ]
  },
  {
   "cell_type": "code",
   "execution_count": 47,
   "metadata": {},
   "outputs": [
    {
     "data": {
      "text/html": [
       "<div>\n",
       "<style scoped>\n",
       "    .dataframe tbody tr th:only-of-type {\n",
       "        vertical-align: middle;\n",
       "    }\n",
       "\n",
       "    .dataframe tbody tr th {\n",
       "        vertical-align: top;\n",
       "    }\n",
       "\n",
       "    .dataframe thead th {\n",
       "        text-align: right;\n",
       "    }\n",
       "</style>\n",
       "<table border=\"1\" class=\"dataframe\">\n",
       "  <thead>\n",
       "    <tr style=\"text-align: right;\">\n",
       "      <th></th>\n",
       "      <th>id</th>\n",
       "      <th>comment</th>\n",
       "    </tr>\n",
       "  </thead>\n",
       "  <tbody>\n",
       "    <tr>\n",
       "      <th>0</th>\n",
       "      <td>밉바부</td>\n",
       "      <td>요즘 넥슨은 다양한 시도를 하는거같아서 긍정적으로 보게됩니다 제발 이대로 좋은 성적...</td>\n",
       "    </tr>\n",
       "    <tr>\n",
       "      <th>1</th>\n",
       "      <td>그러쿤</td>\n",
       "      <td>베일드 친구들과 너무 즐겁게 플레이했던 게임이었어요 총 쏘는 맛도 좋고 딱 머리 아...</td>\n",
       "    </tr>\n",
       "    <tr>\n",
       "      <th>2</th>\n",
       "      <td>GunHyo Lee</td>\n",
       "      <td>퍼스트 디센던트는 미완성 게임으로 테스트를 지원한거라 생각해서 모션의 어색함이나 박...</td>\n",
       "    </tr>\n",
       "    <tr>\n",
       "      <th>3</th>\n",
       "      <td>여심용광로</td>\n",
       "      <td>베엑은 테스트때 참여했던 유저로 게임 정말 잘만들었습니다 다만 컨텐츠 부족 맵의 종...</td>\n",
       "    </tr>\n",
       "    <tr>\n",
       "      <th>4</th>\n",
       "      <td>민트허브</td>\n",
       "      <td>가챠 확률이 영업비밀이 아니라 성공한 신작게임들의 개발 노하우들이 영업비밀이었으면 ...</td>\n",
       "    </tr>\n",
       "  </tbody>\n",
       "</table>\n",
       "</div>"
      ],
      "text/plain": [
       "             id                                            comment\n",
       "0           밉바부  요즘 넥슨은 다양한 시도를 하는거같아서 긍정적으로 보게됩니다 제발 이대로 좋은 성적...\n",
       "1           그러쿤  베일드 친구들과 너무 즐겁게 플레이했던 게임이었어요 총 쏘는 맛도 좋고 딱 머리 아...\n",
       "2    GunHyo Lee  퍼스트 디센던트는 미완성 게임으로 테스트를 지원한거라 생각해서 모션의 어색함이나 박...\n",
       "3         여심용광로  베엑은 테스트때 참여했던 유저로 게임 정말 잘만들었습니다 다만 컨텐츠 부족 맵의 종...\n",
       "4          민트허브  가챠 확률이 영업비밀이 아니라 성공한 신작게임들의 개발 노하우들이 영업비밀이었으면 ..."
      ]
     },
     "execution_count": 47,
     "metadata": {},
     "output_type": "execute_result"
    }
   ],
   "source": [
    "df = pd.read_csv(\"신트리_fps신작리뷰_댓글_전처리.csv\", encoding='utf-8-sig')\n",
    "#필요없는 컬럼 삭제\n",
    "del df['Unnamed: 0']\n",
    "df.head()"
   ]
  },
  {
   "attachments": {},
   "cell_type": "markdown",
   "metadata": {},
   "source": [
    "- 게임 중 뭐가 제일 언급이 많은지 \n",
    "- 리뷰 감성분석 하기\n",
    "- 워드클라우드, 표 or 파이로 시각화"
   ]
  },
  {
   "cell_type": "code",
   "execution_count": null,
   "metadata": {},
   "outputs": [],
   "source": []
  },
  {
   "cell_type": "code",
   "execution_count": null,
   "metadata": {},
   "outputs": [],
   "source": []
  },
  {
   "cell_type": "code",
   "execution_count": null,
   "metadata": {},
   "outputs": [],
   "source": []
  },
  {
   "cell_type": "code",
   "execution_count": null,
   "metadata": {},
   "outputs": [],
   "source": [
    "'베일드' '퍼스트 디센던트' '퍼스트' '베엑' '베일드 엑스퍼트' '엑스퍼트' '더 파이널스' '파이널스' '데스티니' '워프레임' '어센던트' \n",
    "'퍼디' '다이브' '배필' '더 퍼스트 디센던트' '카스글옵' '배그' '배틀필드' '겜' '니드포 엣지' '데이브 더 다이버'"
   ]
  },
  {
   "cell_type": "code",
   "execution_count": null,
   "metadata": {},
   "outputs": [],
   "source": [
    "'개', '총게인', '월때' '프젝' '라' '나' '년' '대갈빡'"
   ]
  },
  {
   "cell_type": "code",
   "execution_count": null,
   "metadata": {},
   "outputs": [],
   "source": []
  }
 ],
 "metadata": {
  "kernelspec": {
   "display_name": "base",
   "language": "python",
   "name": "python3"
  },
  "language_info": {
   "codemirror_mode": {
    "name": "ipython",
    "version": 3
   },
   "file_extension": ".py",
   "mimetype": "text/x-python",
   "name": "python",
   "nbconvert_exporter": "python",
   "pygments_lexer": "ipython3",
   "version": "3.9.12"
  },
  "orig_nbformat": 4
 },
 "nbformat": 4,
 "nbformat_minor": 2
}
